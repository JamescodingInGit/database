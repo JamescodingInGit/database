{
 "cells": [
  {
   "cell_type": "code",
   "execution_count": 1,
   "id": "5e935e8c",
   "metadata": {},
   "outputs": [],
   "source": [
    "import pandas as pd\n",
    "from sklearn.metrics.pairwise import cosine_similarity\n",
    "import pickle"
   ]
  },
  {
   "cell_type": "code",
   "execution_count": 2,
   "id": "89beb445",
   "metadata": {},
   "outputs": [],
   "source": [
    "data = pd.read_csv('amazon.csv')"
   ]
  },
  {
   "cell_type": "code",
   "execution_count": 3,
   "id": "02ce58c0",
   "metadata": {},
   "outputs": [],
   "source": [
    "# Convert data types and handle missing values\n",
    "data['actual_price'] = pd.to_numeric(data['actual_price'].replace({'₹': ''}, regex=True), errors='coerce')\n",
    "data['rating'] = pd.to_numeric(data['rating'], errors='coerce')\n",
    "data['rating_count'] = pd.to_numeric(data['rating_count'], errors='coerce')"
   ]
  },
  {
   "cell_type": "code",
   "execution_count": 4,
   "id": "c339289b",
   "metadata": {},
   "outputs": [],
   "source": [
    "data['actual_price'] = pd.to_numeric(data['actual_price'].replace({'₹': ''}, regex=True), errors='coerce')\n",
    "data['rating'] = pd.to_numeric(data['rating'], errors='coerce')\n",
    "data['rating_count'] = pd.to_numeric(data['rating_count'], errors='coerce')"
   ]
  },
  {
   "cell_type": "code",
   "execution_count": 5,
   "id": "102e3b90",
   "metadata": {},
   "outputs": [],
   "source": [
    "# Define columns for collaborative filtering\n",
    "data_columns = ['rating', 'rating_count']\n",
    "column_data = data[data_columns].fillna(0)"
   ]
  },
  {
   "cell_type": "code",
   "execution_count": 6,
   "id": "745f4a5e",
   "metadata": {},
   "outputs": [],
   "source": [
    "# Compute similarity matrix using cosine similarity\n",
    "similarity_matrix = cosine_similarity(column_data)"
   ]
  },
  {
   "cell_type": "code",
   "execution_count": 7,
   "id": "793ef256",
   "metadata": {},
   "outputs": [],
   "source": [
    "# Initialize a dictionary to store collaborative filtering results\n",
    "collaborative_filtering_dict = {}"
   ]
  },
  {
   "cell_type": "code",
   "execution_count": 8,
   "id": "53a00d01",
   "metadata": {},
   "outputs": [],
   "source": [
    "# Function to calculate top similar products for each product\n",
    "def collaborative_filtering(product_name):\n",
    "    # Get the index of the product\n",
    "    product_index = data[data['product_name'] == product_name].index[0]\n",
    "    \n",
    "    # Calculate similarity scores between the product and all other products\n",
    "    similar_products = list(enumerate(similarity_matrix[product_index]))\n",
    "    \n",
    "    # Sort similar products based on similarity scores (descending order)\n",
    "    similar_products = sorted(similar_products, key=lambda x: x[1], reverse=True)\n",
    "    \n",
    "    # Get the top similar products (excluding the product itself)\n",
    "    top_similar_products = similar_products[1:6]  # Top 5 similar products\n",
    "    \n",
    "    return top_similar_products"
   ]
  },
  {
   "cell_type": "code",
   "execution_count": 9,
   "id": "6e6fc6a0",
   "metadata": {},
   "outputs": [],
   "source": [
    "# Calculate top similar products for each product and store in dictionary\n",
    "for index, row in data.iterrows():\n",
    "    product_name = row['product_name']\n",
    "    similar_products = collaborative_filtering(product_name)\n",
    "    collaborative_filtering_dict[product_name] = similar_products"
   ]
  },
  {
   "cell_type": "code",
   "execution_count": 10,
   "id": "3ec427f8",
   "metadata": {},
   "outputs": [],
   "source": [
    "# Save the collaborative filtering dictionary as a .pkl file\n",
    "with open('collaborative_filtering.pkl', 'wb') as f:\n",
    "    pickle.dump(collaborative_filtering_dict, f)"
   ]
  },
  {
   "cell_type": "code",
   "execution_count": 11,
   "id": "f2a8b4e2",
   "metadata": {},
   "outputs": [
    {
     "name": "stdout",
     "output_type": "stream",
     "text": [
      "Top similar products to 'Wayona Nylon Braided USB to Lightning Fast Charging and Data Sync Cable Compatible for iPhone 13, 12,11, X, 8, 7, 6, 5, iPad Air, Pro, Mini (3 FT Pack of 1, Grey)':\n",
      "1. Product Name: Ambrane Unbreakable 60W / 3A Fast Charging 1.5m Braided Type C Cable for Smartphones, Tablets, Laptops & other Type C devices, PD Technology, 480Mbps Data Sync, Quick Charge 3.0 (RCT15A, Black), Similarity Score: 1.0000\n",
      "   Actual Price: ₹349.00, Rating: 4.0, Rating Count: nan\n",
      "--------------------------------------------------\n",
      "2. Product Name: Sounce Fast Phone Charging Cable & Data Sync USB Cable Compatible for iPhone 13, 12,11, X, 8, 7, 6, 5, iPad Air, Pro, Mini & iOS Devices, Similarity Score: 1.0000\n",
      "   Actual Price: ₹nan, Rating: 3.9, Rating Count: nan\n",
      "--------------------------------------------------\n",
      "3. Product Name: boAt Deuce USB 300 2 in 1 Type-C & Micro USB Stress Resistant, Tangle-Free, Sturdy Cable with 3A Fast Charging & 480mbps Data Transmission, 10000+ Bends Lifespan and Extended 1.5m Length(Martian Red), Similarity Score: 1.0000\n",
      "   Actual Price: ₹699.00, Rating: 4.2, Rating Count: nan\n",
      "--------------------------------------------------\n",
      "4. Product Name: Portronics Konnect L 1.2M Fast Charging 3A 8 Pin USB Cable with Charge & Sync Function for iPhone, iPad (Grey), Similarity Score: 1.0000\n",
      "   Actual Price: ₹399.00, Rating: 4.2, Rating Count: nan\n",
      "--------------------------------------------------\n",
      "5. Product Name: pTron Solero TB301 3A Type-C Data and Fast Charging Cable, Made in India, 480Mbps Data Sync, Strong and Durable 1.5-Meter Nylon Braided USB Cable for Type-C Devices for Charging Adapter (Black), Similarity Score: 1.0000\n",
      "   Actual Price: ₹nan, Rating: 3.9, Rating Count: nan\n",
      "--------------------------------------------------\n"
     ]
    }
   ],
   "source": [
    "def present_top_similar_products(product_name):\n",
    "    # Check if the product exists in the data\n",
    "    if product_name not in data['product_name'].values:\n",
    "        print(f\"Product '{product_name}' not found in the data.\")\n",
    "        return\n",
    "\n",
    "    # Calculate top similar products using the collaborative_filtering function\n",
    "    top_similar_products = collaborative_filtering(product_name)\n",
    "    \n",
    "    # Display the top similar products\n",
    "    print(f\"Top similar products to '{product_name}':\")\n",
    "    \n",
    "    # Iterate through the top similar products and display their details\n",
    "    for i, (product_index, similarity_score) in enumerate(top_similar_products):\n",
    "        # Retrieve the details of the similar product from the data\n",
    "        similar_product = data.loc[product_index]\n",
    "        \n",
    "        # Display the similar product's details\n",
    "        print(f\"{i + 1}. Product Name: {similar_product['product_name']}, Similarity Score: {similarity_score:.4f}\")\n",
    "        print(f\"   Actual Price: ₹{similar_product['actual_price']:.2f}, Rating: {similar_product['rating']:.1f}, Rating Count: {similar_product['rating_count']}\")\n",
    "        print(\"-\" * 50)\n",
    "\n",
    "# Example usage\n",
    "product_name_to_query = 'Wayona Nylon Braided USB to Lightning Fast Charging and Data Sync Cable Compatible for iPhone 13, 12,11, X, 8, 7, 6, 5, iPad Air, Pro, Mini (3 FT Pack of 1, Grey)'  # Replace with the product name you want to query\n",
    "present_top_similar_products(product_name_to_query)"
   ]
  },
  {
   "cell_type": "code",
   "execution_count": null,
   "id": "63d8972b",
   "metadata": {},
   "outputs": [],
   "source": []
  }
 ],
 "metadata": {
  "kernelspec": {
   "display_name": "Python 3 (ipykernel)",
   "language": "python",
   "name": "python3"
  },
  "language_info": {
   "codemirror_mode": {
    "name": "ipython",
    "version": 3
   },
   "file_extension": ".py",
   "mimetype": "text/x-python",
   "name": "python",
   "nbconvert_exporter": "python",
   "pygments_lexer": "ipython3",
   "version": "3.11.5"
  }
 },
 "nbformat": 4,
 "nbformat_minor": 5
}
